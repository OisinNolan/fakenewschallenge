{
 "cells": [
  {
   "cell_type": "code",
   "execution_count": 15,
   "metadata": {},
   "outputs": [],
   "source": [
    "# See: https://pytorch.org/tutorials/beginner/basics/data_tutorial.html\n",
    "\n",
    "from re import I\n",
    "import torch\n",
    "from torch.utils.data import Dataset, DataLoader\n",
    "import pandas as pd\n",
    "\n",
    "STANCE_MAP = {\n",
    "    'agree':0,\n",
    "    'disagree':1,\n",
    "    'discuss':2,\n",
    "    'unrelated':3,\n",
    "}\n",
    "\n",
    "class FakeNewsDataset(Dataset):\n",
    "    def __init__(self, stances_file=None, bodies_file=None, related_only=False):\n",
    "        self.stances = pd.read_csv(stances_file) if stances_file else None\n",
    "        self.bodies = pd.read_csv(bodies_file) if bodies_file else None\n",
    "        if related_only:\n",
    "            self.stances.drop(self.stances[self.stances['Stance'] == 'unrelated'].index, inplace=True)\n",
    "\n",
    "    def set_df(self, stances_df, bodies_df):\n",
    "        self.stances = stances_df\n",
    "        self.bodies = bodies_df\n",
    "\n",
    "    def __len__(self):\n",
    "        return len(self.stances)\n",
    "    \n",
    "    def __getitem__(self, idx):\n",
    "        headline, body_id, stance = self.stances.iloc[idx]\n",
    "        select = self.bodies['Body ID'] == body_id\n",
    "        body = self.bodies[select]['articleBody'].values[0]\n",
    "        return (headline, body), STANCE_MAP[stance]"
   ]
  },
  {
   "cell_type": "code",
   "execution_count": 17,
   "metadata": {},
   "outputs": [],
   "source": [
    "dataset = FakeNewsDataset('../data/combined_stances_train.csv', '../data/combined_bodies_train.csv', related_only=True)\n",
    "dataloader = torch.utils.data.DataLoader(dataset)"
   ]
  },
  {
   "cell_type": "code",
   "execution_count": 21,
   "metadata": {},
   "outputs": [
    {
     "name": "stdout",
     "output_type": "stream",
     "text": [
      "{0: 4935, 1: 2242, 2: 9813}\n"
     ]
    }
   ],
   "source": [
    "class_dist = {0:0, 1:0, 2:0}\n",
    "for batch, ((H, B), y) in enumerate(dataloader):\n",
    "    class_dist[int(y)] += 1\n",
    "print(class_dist)"
   ]
  }
 ],
 "metadata": {
  "kernelspec": {
   "display_name": "Python 3",
   "language": "python",
   "name": "python3"
  },
  "language_info": {
   "codemirror_mode": {
    "name": "ipython",
    "version": 3
   },
   "file_extension": ".py",
   "mimetype": "text/x-python",
   "name": "python",
   "nbconvert_exporter": "python",
   "pygments_lexer": "ipython3",
   "version": "3.7.6"
  }
 },
 "nbformat": 4,
 "nbformat_minor": 4
}
