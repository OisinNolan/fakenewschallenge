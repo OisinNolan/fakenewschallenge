{
 "cells": [
  {
   "cell_type": "code",
   "execution_count": 9,
   "metadata": {},
   "outputs": [],
   "source": [
    "### IMPORTS:"
   ]
  },
  {
   "cell_type": "code",
   "execution_count": 59,
   "metadata": {
    "collapsed": true,
    "jupyter": {
     "outputs_hidden": true,
     "source_hidden": true
    }
   },
   "outputs": [
    {
     "name": "stdout",
     "output_type": "stream",
     "text": [
      "Collecting seaborn==0.11.0\n",
      "  Downloading seaborn-0.11.0-py3-none-any.whl (283 kB)\n",
      "\u001b[K     |████████████████████████████████| 283 kB 3.8 MB/s eta 0:00:01\n",
      "\u001b[?25hRequirement already satisfied: matplotlib>=2.2 in /opt/anaconda3/lib/python3.7/site-packages (from seaborn==0.11.0) (3.1.3)\n",
      "Requirement already satisfied: numpy>=1.15 in /opt/anaconda3/lib/python3.7/site-packages (from seaborn==0.11.0) (1.19.4)\n",
      "Requirement already satisfied: pandas>=0.23 in /opt/anaconda3/lib/python3.7/site-packages (from seaborn==0.11.0) (1.0.1)\n",
      "Requirement already satisfied: scipy>=1.0 in /opt/anaconda3/lib/python3.7/site-packages (from seaborn==0.11.0) (1.4.1)\n",
      "Requirement already satisfied: cycler>=0.10 in /opt/anaconda3/lib/python3.7/site-packages (from matplotlib>=2.2->seaborn==0.11.0) (0.10.0)\n",
      "Requirement already satisfied: kiwisolver>=1.0.1 in /opt/anaconda3/lib/python3.7/site-packages (from matplotlib>=2.2->seaborn==0.11.0) (1.1.0)\n",
      "Requirement already satisfied: pyparsing!=2.0.4,!=2.1.2,!=2.1.6,>=2.0.1 in /opt/anaconda3/lib/python3.7/site-packages (from matplotlib>=2.2->seaborn==0.11.0) (2.4.6)\n",
      "Requirement already satisfied: python-dateutil>=2.1 in /opt/anaconda3/lib/python3.7/site-packages (from matplotlib>=2.2->seaborn==0.11.0) (2.8.1)\n",
      "Requirement already satisfied: pytz>=2017.2 in /opt/anaconda3/lib/python3.7/site-packages (from pandas>=0.23->seaborn==0.11.0) (2019.3)\n",
      "Requirement already satisfied: six in /opt/anaconda3/lib/python3.7/site-packages (from cycler>=0.10->matplotlib>=2.2->seaborn==0.11.0) (1.14.0)\n",
      "Requirement already satisfied: setuptools in /opt/anaconda3/lib/python3.7/site-packages (from kiwisolver>=1.0.1->matplotlib>=2.2->seaborn==0.11.0) (46.0.0.post20200309)\n",
      "Installing collected packages: seaborn\n",
      "  Attempting uninstall: seaborn\n",
      "    Found existing installation: seaborn 0.10.0\n",
      "    Uninstalling seaborn-0.10.0:\n",
      "      Successfully uninstalled seaborn-0.10.0\n",
      "Successfully installed seaborn-0.11.0\n"
     ]
    }
   ],
   "source": [
    "!pip install seaborn==0.11.0"
   ]
  },
  {
   "cell_type": "code",
   "execution_count": 1,
   "metadata": {
    "jupyter": {
     "source_hidden": true
    }
   },
   "outputs": [],
   "source": [
    "import math\n",
    "from torch.utils.data import DataLoader\n",
    "from torch.utils.data.sampler import SubsetRandomSampler\n",
    "import seaborn as sns\n",
    "sns.set_theme(style=\"whitegrid\")\n",
    "from functools import reduce"
   ]
  },
  {
   "cell_type": "code",
   "execution_count": 5,
   "metadata": {},
   "outputs": [],
   "source": [
    "### DATASET UTILS:"
   ]
  },
  {
   "cell_type": "code",
   "execution_count": 2,
   "metadata": {
    "jupyter": {
     "source_hidden": true
    }
   },
   "outputs": [],
   "source": [
    "# See: https://pytorch.org/tutorials/beginner/basics/data_tutorial.html\n",
    "\n",
    "from torch.utils.data import Dataset\n",
    "import pandas as pd\n",
    "import pickle\n",
    "\n",
    "STANCE_MAP = {\n",
    "    'agree':0,\n",
    "    'disagree':1,\n",
    "    'discuss':2,\n",
    "    'unrelated':3,\n",
    "}\n",
    "STANCE_MAP_INV = dict((v,k) for k, v in STANCE_MAP.items())\n",
    "\n",
    "# This map makes a 2-class classification task, where\n",
    "# labels are just 'related=1', or 'unrelated=0'.\n",
    "RELATED_STANCE_MAP = {\n",
    "    'unrelated':0,\n",
    "    'agree':1,\n",
    "    'disagree':1,\n",
    "    'discuss':1,\n",
    "}\n",
    "RELATED_STANCE_MAP_INV = {0: 'unrelated', 1: 'related'}\n",
    "\n",
    "class FakeNewsEncodedDataset(Dataset):\n",
    "    def __init__(self, stances_file, bodies_file, no_unrelated=False, related_task=False):\n",
    "        self.stances = []\n",
    "        self.sim_bodies = {}\n",
    "        self.nli_bodies = {}\n",
    "        self.related_task = related_task\n",
    "        \n",
    "        with open(stances_file, \"rb\") as sf:\n",
    "            completed_read = False\n",
    "            while not completed_read:\n",
    "                try:\n",
    "                    stance = pickle.load(sf)\n",
    "                    if no_unrelated and stance[3] == 'unrelated':\n",
    "                        continue\n",
    "                    self.stances.append(stance) # TODO: memory inefficient?\n",
    "                except EOFError:\n",
    "                    completed_read = True\n",
    "        \n",
    "        with open(bodies_file, \"rb\") as bf:\n",
    "            completed_read = False\n",
    "            while not completed_read:\n",
    "                try:\n",
    "                    body_id, sim_embeddings, nli_embeddings = pickle.load(bf)\n",
    "                    self.sim_bodies[body_id] = sim_embeddings\n",
    "                    self.nli_bodies[body_id] = nli_embeddings\n",
    "                except EOFError:\n",
    "                    completed_read = True\n",
    "\n",
    "    def __len__(self):\n",
    "        return len(self.stances) # TODO Is this correct?\n",
    "\n",
    "    def __getitem__(self, idx):\n",
    "        body_id, sim_stance_embedding, nli_stance_embedding, stance = self.stances[idx]\n",
    "        sim_body_embedding = self.sim_bodies[body_id]\n",
    "        nli_body_embedding = self.nli_bodies[body_id]\n",
    "        label = RELATED_STANCE_MAP[stance] if self.related_task else STANCE_MAP[stance]\n",
    "        return (\n",
    "            sim_stance_embedding,\n",
    "            nli_stance_embedding,\n",
    "            sim_body_embedding,\n",
    "            nli_body_embedding,\n",
    "        ), label"
   ]
  },
  {
   "cell_type": "code",
   "execution_count": 38,
   "metadata": {},
   "outputs": [],
   "source": [
    "### ARRAY UTILS:"
   ]
  },
  {
   "cell_type": "code",
   "execution_count": 3,
   "metadata": {
    "jupyter": {
     "source_hidden": true
    }
   },
   "outputs": [],
   "source": [
    "count = lambda arr, val: reduce(lambda c, x: c + int(x == val), arr)\n",
    "proportion = lambda arr, val: count(arr, val) / len(arr)"
   ]
  },
  {
   "cell_type": "code",
   "execution_count": 4,
   "metadata": {},
   "outputs": [],
   "source": [
    "VAL_CUTOFF = 0.7\n",
    "\n",
    "dataset = FakeNewsEncodedDataset(\n",
    "    stances_file=\"data/train_stances.csv.stance.dat\",\n",
    "    bodies_file=\"data/train_bodies.csv.body.dat\",\n",
    "    no_unrelated=True\n",
    ")\n",
    "dataset_size = len(dataset)\n",
    "dataset_indices = list(range(dataset_size))\n",
    "cutoff = math.floor(dataset_size * VAL_CUTOFF)\n",
    "\n",
    "train_sampler = SubsetRandomSampler(dataset_indices[:cutoff])\n",
    "val_sampler = SubsetRandomSampler(dataset_indices[cutoff:])\n",
    "\n",
    "train_dataloader = DataLoader(dataset, batch_size=1, sampler=train_sampler)\n",
    "val_dataloader = DataLoader(dataset, batch_size=1, sampler=val_sampler)"
   ]
  },
  {
   "cell_type": "code",
   "execution_count": 5,
   "metadata": {},
   "outputs": [
    {
     "data": {
      "text/plain": [
       "<matplotlib.axes._subplots.AxesSubplot at 0x7fac1538d590>"
      ]
     },
     "execution_count": 5,
     "metadata": {},
     "output_type": "execute_result"
    },
    {
     "data": {
      "image/png": "[encoded data removed]",
      "text/plain": [
       "<Figure size 432x288 with 1 Axes>"
      ]
     },
     "metadata": {},
     "output_type": "display_data"
    }
   ],
   "source": [
    "# get proportions of each class for TRAIN\n",
    "ys = list(map(lambda x: int(x[1]), train_dataloader))\n",
    "agree_prop, disagree_prop, discuss_prop = map(lambda val: proportion(ys, val), [0, 1, 2])\n",
    "sns.barplot(x=['agree', 'disagree', 'discuss'], y=[agree_prop, disagree_prop, discuss_prop])"
   ]
  },
  {
   "cell_type": "code",
   "execution_count": 7,
   "metadata": {},
   "outputs": [
    {
     "data": {
      "text/plain": [
       "<matplotlib.axes._subplots.AxesSubplot at 0x7fabf74ab990>"
      ]
     },
     "execution_count": 7,
     "metadata": {},
     "output_type": "execute_result"
    },
    {
     "data": {
      "image/png": "[encoded data removed]",
      "text/plain": [
       "<Figure size 432x288 with 1 Axes>"
      ]
     },
     "metadata": {},
     "output_type": "display_data"
    }
   ],
   "source": [
    "# get proportions of each class for VAL\n",
    "ys = list(map(lambda x: int(x[1]), val_dataloader))\n",
    "agree_prop, disagree_prop, discuss_prop = map(lambda val: proportion(ys, val), [0, 1, 2])\n",
    "sns.barplot(x=['agree', 'disagree', 'discuss'], y=[agree_prop, disagree_prop, discuss_prop])"
   ]
  },
  {
   "cell_type": "markdown",
   "metadata": {},
   "source": [
    "### Computing class weights based on relative frequency\n",
    "See: https://androidkt.com/how-to-use-class-weight-in-crossentropyloss-for-an-imbalanced-dataset/"
   ]
  },
  {
   "cell_type": "code",
   "execution_count": 9,
   "metadata": {},
   "outputs": [
    {
     "data": {
      "text/plain": [
       "array([1.20017873, 5.86462882, 0.50093249])"
      ]
     },
     "execution_count": 9,
     "metadata": {},
     "output_type": "execute_result"
    }
   ],
   "source": [
    "from sklearn.utils import class_weight\n",
    "\n",
    "class_weight.compute_class_weight('balanced', [0, 1, 2], ys)"
   ]
  }
 ],
 "metadata": {
  "kernelspec": {
   "display_name": "Python 3",
   "language": "python",
   "name": "python3"
  },
  "language_info": {
   "codemirror_mode": {
    "name": "ipython",
    "version": 3
   },
   "file_extension": ".py",
   "mimetype": "text/x-python",
   "name": "python",
   "nbconvert_exporter": "python",
   "pygments_lexer": "ipython3",
   "version": "3.7.6"
  }
 },
 "nbformat": 4,
 "nbformat_minor": 4
}
